{
 "cells": [
  {
   "cell_type": "markdown",
   "id": "dfb5b06a-208e-42f4-991b-36a98f722c2f",
   "metadata": {},
   "source": [
    "# TA LIB Technical Indicator Explanations and Code Snippets\n",
    "\n",
    "**1.Momentum (MOM):** measures the velocity of price change over a given period of time\n",
    "\n",
    "**2.Beta:** is a measure of a stock's volatility in relation to the overall market. By definition, the market, such as the S&P 500 Index, has a beta of 1.0, and individual stocks are ranked according to how much they deviate from the market.\n",
    "\n",
    "**3.Parabolic Stop and Reverse (SAR):** Welles Wilder's Parabolic Stop and Reverse is a trailing systems: it is often used as an indicator as well. Often used with Directional Movement Index\n",
    "\n",
    "**4.Aroon Indicator:** indicates if a price is a trending or is in a trading range. It can reveal the beginning of a new trend, its strength and can help anticipate changes from trading ranges to trends. AroonDown and AroonUp indicators are used together and combined are called Aroon indicators. Used with Average Directional Movement Index\n",
    "\n",
    "**5.Average Directional Movement Index (ADX)** can be used to help measure the overall strength of a trends. It is a component of the Directional Movement System developed by Welle Wilder.\n",
    "\n",
    "**6.Linear Regression (LINEARREG)** plots the ending value of a linear regression line for a specified number of bars, showing statistically, where the price is expected to be for a period. Used in conjunction with Simple Moving Average\n",
    "\n",
    "**7.Simple Moving Average (SMA)** is one of the core indicators in technical analysis, SMA is the easiest moving average to construct. It's the average price over the specified period.\n",
    "\n",
    "**8.Exponential Moving Average(EMA)** is similar to simple moving average measures a trend direction over a period of time and applies a weight to data that is more current.\n",
    "\n",
    "**9.Chaikin Oscillator:** The Chaikin Oscillator examines both the strength of price moves and underlying buying and selling pressure.\n",
    "It provides a reading of the demand for a security, and possible turning points in the price.\n",
    "\n",
    "**10.Normalized Average True Range:** attempts to normalize the average true range values across instruments by using the formula below.\n",
    "\n",
    "**11.CDL ABANDONBABY:** pattern that is used by traders to signal a reversal of a downtrend. It forms in a downtrend and is composed of three price bars. The first is a large down candle, followed by a doji candle that gaps below the first candle. The next candle opens higher than the doji and moves aggressively to the upside.\n",
    "\n",
    "**12.CDL 2CROWS:** The upside gap two crows pattern is a three-day candlestick chart formation that signals an upward price move may be running out of momentum and could reverse lower.\n",
    "\n",
    "**13.CDL 3BLACKCROWS:** Three black crows is a phrase used to describe a bearish candlestick pattern that may predict the reversal of an uptrend. \n",
    "\n",
    "**14.CDL EVENINGSTAR** An evening star is a stock-price chart pattern used by technical analysts to detect when a trend is about to reverse.\n",
    "\n",
    "**15.CDL COUNTERATTACK, counter attack:** The counterattack lines pattern is a two-candle reversal pattern that appears on candlestick charts. It can occur during an uptrend or downtrend. For a bullish reversal during a downtrend, the first candle is a long black (down) candle, and the second candle gaps down but then closes higher, near the close of the first candle. It shows that sellers were in control, but they may be losing that control as the buyers were able to close the gap down.\n",
    "\n",
    "**16.CDL KICKING** A kicker pattern is a two-bar candlestick pattern that predicts a change in the direction of an asset's price trend. This pattern is characterized by a sharp reversal in price over the span of two candlesticks. Traders use it to determine which group of market participants is in control of the direction.\n",
    "\n",
    "**17.HT_SINE Hilbert Transform SineWave:** it distinguishes between cyclical and trending price activity. \n",
    "\n",
    "**18.HT_TRENDMODE Hilbert Transform Trend vs Cycle Mode:** this trend vs. cycle is a binary indicator in the sense that it will show either a value of 1 or 0. The interpretation is very simple – when the indicator switches from 0 to 1 it means that a new trend started, it entered a trending phase.\n",
    "\n",
    "**19.TYPPRICE typical price, builder of Money Flow Index(MFI)** provides a simple, single-line plot of the day’s average price. Some investors use the Typical Price rather than the closing price when creating moving-average penetration systems. The Typical Price is a building block of the Money Flow Index and is calculated by adding the high, low, and closing prices together, and then dividing by three.\n",
    "\n",
    "Sources\n",
    "[Investopedia](https://www.investopedia.com/)\n",
    "[Fidelity](https://www.fidelity.com/learning-center/trading-investing/technical-analysis/technical-indicator-guide/overview)\n",
    "[TA-Lib Documentation](https://mrjbq7.github.io/ta-lib/doc_index.html)\n"
   ]
  },
  {
   "cell_type": "code",
   "execution_count": null,
   "id": "0b505582-1f88-4b4b-8c89-bf30f97e46ef",
   "metadata": {},
   "outputs": [],
   "source": [
    "# STATISICAL INDICATORS\n",
    "# LINEARREG-Linear Regression\n",
    "# real = LINEARREG(price, timeperiod=14)\n",
    "\n",
    "# BETA - Beta\n",
    "# real = BETA(price0, price1, timeperiod=5)"
   ]
  },
  {
   "cell_type": "code",
   "execution_count": null,
   "id": "93ab261d-1250-4e04-8c8b-40a5b216b550",
   "metadata": {},
   "outputs": [],
   "source": [
    "# OVERLAP INDICATORS\n",
    "#SAR-Parabolic SAR\n",
    "#real = SAR(high, low, acceleration=0, maximum=0)\n",
    "\n",
    "#SMA-Simple Moving Average\n",
    "#real=SMA(close, timeperiod=30)\n",
    "\n",
    "#EMA -Exponential Moving Average\n",
    "#real = EMA(close, timeperiod=30)\n"
   ]
  },
  {
   "cell_type": "code",
   "execution_count": null,
   "id": "ce4f09c3-5b76-4e10-a611-471c85215073",
   "metadata": {},
   "outputs": [],
   "source": [
    "# MOMENTUM INDICATOR FUNCTIONS\n",
    "# MFI- Money Flow Index\n",
    "# real=MFI(high,low,close,volume,timeperiod=14)\n",
    "\n",
    "# MOM- Momentum\n",
    "# real=MOM(close,timeperiod=10)\n",
    "\n",
    "# ADX - Average Directional Movement\n",
    "# real=ADX(high,low,close,timeperiod=14)\n",
    "\n",
    "# AROON\n",
    "# aroondown,aroonup=AROON(high,low,timeperiod=14)\n"
   ]
  },
  {
   "cell_type": "code",
   "execution_count": null,
   "id": "9b990d4d-5caf-4a39-80b1-a322ae6bdda7",
   "metadata": {},
   "outputs": [],
   "source": [
    "# VOLUME INDICATORS\n",
    "# ADOSC-Chaikin A/D Oscillator\n",
    "# real=ADOSC(high,low,close,volume,fastperiod=3,slowperiod=10)\n"
   ]
  },
  {
   "cell_type": "code",
   "execution_count": null,
   "id": "4bc47f7c-4177-4826-8e61-f4efff07f2ec",
   "metadata": {},
   "outputs": [],
   "source": [
    "# VOLATILITY INDICATORS\n",
    "# NATR -normalized average true range\n",
    "# real=NATR(high,low,close,timeperiod=14)\n"
   ]
  },
  {
   "cell_type": "code",
   "execution_count": null,
   "id": "9cfa47af-6b65-40bf-865a-c873706e25f5",
   "metadata": {},
   "outputs": [],
   "source": [
    "# PRICE TRANSFORMATION\n",
    "# TYPPRICE - typical price, builder of Money Flow Index(MFI)\n",
    "# real=TYPPRICE(high,low,close)\n"
   ]
  },
  {
   "cell_type": "code",
   "execution_count": null,
   "id": "1591f40d-cacc-4185-afb5-6edeb9ad7f7f",
   "metadata": {},
   "outputs": [],
   "source": [
    "# CYCLE INDICATORS\n",
    "# HT_SINE -  Hilbert Transform SineWave\n",
    "# sine, leadsine=HT_SINE(close)\n",
    "\n",
    "# HT_TRENDMODE - Hilbert Transform Trend vs Cycle Mode\n",
    "# integer=HT_TRENDMODE(close)\n"
   ]
  },
  {
   "cell_type": "code",
   "execution_count": null,
   "id": "6912f55c-5844-444e-b8d3-4e4ba8db6440",
   "metadata": {},
   "outputs": [],
   "source": [
    "# PATTERN RECOGNITION\n",
    "\n",
    "# CDL ABANDONBABY\n",
    "# integer=CDLABANDONEDBABY(open,high,low,close,penetration=0)\n",
    "\n",
    "# CDL 2CROWS\n",
    "# integer=CDL2CROWS(open,high,low,close)\n",
    "\n",
    "# CDL 3BLACKCROWS\n",
    "# integer=CDL3BLACKCROWS(open,high,low,close)\n",
    "\n",
    "# CDL EVENINGSTAR\n",
    "# integer=CDLEVENINGSTAR(open,high,low,close,penetration=0)\n",
    "\n",
    "# CDL COUNTERATTACK, counter attack\n",
    "# integer=CDLCOUNTERATTACK(open,high,low,close)\n",
    "\n",
    "# CDL KICKING\n",
    "# integer=CDLKICKING(open,high,low,close)\n",
    "\n",
    "\n"
   ]
  }
 ],
 "metadata": {
  "kernelspec": {
   "display_name": "Python 3",
   "language": "python",
   "name": "python3"
  },
  "language_info": {
   "codemirror_mode": {
    "name": "ipython",
    "version": 3
   },
   "file_extension": ".py",
   "mimetype": "text/x-python",
   "name": "python",
   "nbconvert_exporter": "python",
   "pygments_lexer": "ipython3",
   "version": "3.8.8"
  }
 },
 "nbformat": 4,
 "nbformat_minor": 5
}
