{
 "cells": [
  {
   "cell_type": "code",
   "execution_count": 18,
   "id": "2ca6cff6-d6cc-4c9f-be11-d73f63acc5a3",
   "metadata": {},
   "outputs": [],
   "source": [
    "# Initial imports\n",
    "import pandas as pd \n",
    "import yfinance as yf\n",
    "from datetime import datetime, timedelta\n",
    "import time "
   ]
  },
  {
   "cell_type": "code",
   "execution_count": 19,
   "id": "9ff4cddd-8e25-46f1-830a-edc54a044c4a",
   "metadata": {},
   "outputs": [
    {
     "data": {
      "text/html": [
       "<div>\n",
       "<style scoped>\n",
       "    .dataframe tbody tr th:only-of-type {\n",
       "        vertical-align: middle;\n",
       "    }\n",
       "\n",
       "    .dataframe tbody tr th {\n",
       "        vertical-align: top;\n",
       "    }\n",
       "\n",
       "    .dataframe thead th {\n",
       "        text-align: right;\n",
       "    }\n",
       "</style>\n",
       "<table border=\"1\" class=\"dataframe\">\n",
       "  <thead>\n",
       "    <tr style=\"text-align: right;\">\n",
       "      <th></th>\n",
       "      <th>Symbol</th>\n",
       "      <th>Security</th>\n",
       "      <th>SEC filings</th>\n",
       "      <th>GICS Sector</th>\n",
       "      <th>GICS Sub-Industry</th>\n",
       "      <th>Headquarters Location</th>\n",
       "      <th>Date first added</th>\n",
       "      <th>CIK</th>\n",
       "      <th>Founded</th>\n",
       "    </tr>\n",
       "  </thead>\n",
       "  <tbody>\n",
       "    <tr>\n",
       "      <th>0</th>\n",
       "      <td>MMM</td>\n",
       "      <td>3M</td>\n",
       "      <td>reports</td>\n",
       "      <td>Industrials</td>\n",
       "      <td>Industrial Conglomerates</td>\n",
       "      <td>Saint Paul, Minnesota</td>\n",
       "      <td>1976-08-09</td>\n",
       "      <td>66740</td>\n",
       "      <td>1902</td>\n",
       "    </tr>\n",
       "    <tr>\n",
       "      <th>1</th>\n",
       "      <td>AOS</td>\n",
       "      <td>A. O. Smith</td>\n",
       "      <td>reports</td>\n",
       "      <td>Industrials</td>\n",
       "      <td>Building Products</td>\n",
       "      <td>Milwaukee, Wisconsin</td>\n",
       "      <td>2017-07-26</td>\n",
       "      <td>91142</td>\n",
       "      <td>1916</td>\n",
       "    </tr>\n",
       "    <tr>\n",
       "      <th>2</th>\n",
       "      <td>ABT</td>\n",
       "      <td>Abbott</td>\n",
       "      <td>reports</td>\n",
       "      <td>Health Care</td>\n",
       "      <td>Health Care Equipment</td>\n",
       "      <td>North Chicago, Illinois</td>\n",
       "      <td>1964-03-31</td>\n",
       "      <td>1800</td>\n",
       "      <td>1888</td>\n",
       "    </tr>\n",
       "    <tr>\n",
       "      <th>3</th>\n",
       "      <td>ABBV</td>\n",
       "      <td>AbbVie</td>\n",
       "      <td>reports</td>\n",
       "      <td>Health Care</td>\n",
       "      <td>Pharmaceuticals</td>\n",
       "      <td>North Chicago, Illinois</td>\n",
       "      <td>2012-12-31</td>\n",
       "      <td>1551152</td>\n",
       "      <td>2013 (1888)</td>\n",
       "    </tr>\n",
       "    <tr>\n",
       "      <th>4</th>\n",
       "      <td>ABMD</td>\n",
       "      <td>Abiomed</td>\n",
       "      <td>reports</td>\n",
       "      <td>Health Care</td>\n",
       "      <td>Health Care Equipment</td>\n",
       "      <td>Danvers, Massachusetts</td>\n",
       "      <td>2018-05-31</td>\n",
       "      <td>815094</td>\n",
       "      <td>1981</td>\n",
       "    </tr>\n",
       "  </tbody>\n",
       "</table>\n",
       "</div>"
      ],
      "text/plain": [
       "  Symbol     Security SEC filings  GICS Sector         GICS Sub-Industry  \\\n",
       "0    MMM           3M     reports  Industrials  Industrial Conglomerates   \n",
       "1    AOS  A. O. Smith     reports  Industrials         Building Products   \n",
       "2    ABT       Abbott     reports  Health Care     Health Care Equipment   \n",
       "3   ABBV       AbbVie     reports  Health Care           Pharmaceuticals   \n",
       "4   ABMD      Abiomed     reports  Health Care     Health Care Equipment   \n",
       "\n",
       "     Headquarters Location Date first added      CIK      Founded  \n",
       "0    Saint Paul, Minnesota       1976-08-09    66740         1902  \n",
       "1     Milwaukee, Wisconsin       2017-07-26    91142         1916  \n",
       "2  North Chicago, Illinois       1964-03-31     1800         1888  \n",
       "3  North Chicago, Illinois       2012-12-31  1551152  2013 (1888)  \n",
       "4   Danvers, Massachusetts       2018-05-31   815094         1981  "
      ]
     },
     "execution_count": 19,
     "metadata": {},
     "output_type": "execute_result"
    }
   ],
   "source": [
    "# Take S&P500 tickers from Wikipedia \n",
    "payload = pd.read_html('https://en.wikipedia.org/wiki/List_of_S%26P_500_companies')\n",
    "first_table = payload[0]\n",
    "second_table = payload[1]\n",
    "\n",
    "sp500 = first_table\n",
    "\n",
    "sp500.head()"
   ]
  },
  {
   "cell_type": "code",
   "execution_count": 20,
   "id": "93600058-1601-4908-bbab-8bc9b7628471",
   "metadata": {},
   "outputs": [],
   "source": [
    "# Separate tickers \n",
    "tickers = sp500['Symbol'].tolist()\n",
    "\n",
    "# Remove BRK.B and BF.B from tickers \n",
    "tickers.remove('BRK.B')\n",
    "tickers.remove('BF.B')"
   ]
  },
  {
   "cell_type": "code",
   "execution_count": 21,
   "id": "474a4dae-d4cb-42c1-9430-47c221a40064",
   "metadata": {},
   "outputs": [],
   "source": [
    "# Set timeframe \n",
    "end_date = datetime.now()\n",
    "start_date = (datetime.now() - timedelta(90))\n"
   ]
  },
  {
   "cell_type": "code",
   "execution_count": 22,
   "id": "3438fddb-1503-4395-80a6-b2fc3f37f73c",
   "metadata": {
    "tags": []
   },
   "outputs": [],
   "source": [
    "final_OHLC_df = pd.DataFrame() # Declare the final empty dataframe\n",
    "\n",
    "OHLC_data = pd.DataFrame() # Declare intermediate data frame\n",
    "\n",
    "for ticker in tickers: # For each stock symbol in the list of symbols\n",
    "      \n",
    "    yf_ticker_obj = yf.Ticker(ticker) # Initiate object to get the data from API\n",
    "        \n",
    "    OHLC_data = yf_ticker_obj.history(start = start_date, end = end_date, interval = \"1d\", auto_adjust = True)\n",
    "        \n",
    "    OHLC_data = yf_ticker_obj.history(period= \"ytd\", interval = \"1d\", auto_adjust = True)\n",
    "        \n",
    "    OHLC_data.insert(0, 'Symbol', ticker) # Adding this data to dataframe\n",
    "    \n",
    "    OHLC_data = OHLC_data.drop(['Dividends','Stock Splits'], axis=1, errors='ignore')\n",
    "        \n",
    "    # Apppending this data to final dataframe\n",
    "    final_OHLC_df = final_OHLC_df.append(OHLC_data)\n",
    "    "
   ]
  },
  {
   "cell_type": "code",
   "execution_count": 23,
   "id": "74eb68a1-b70c-43f9-a27f-1d8cd683d62e",
   "metadata": {
    "tags": []
   },
   "outputs": [],
   "source": [
    "# Delete split and dividend columns as this is not required.\n",
    "        \n",
    "OHLC_data = OHLC_data.drop(['Dividends','Stock Splits'], axis=1, errors='ignore')\n",
    "        \n",
    "# Apppending this data to final dataframe\n",
    "final_OHLC_df = final_OHLC_df.append(OHLC_data)\n",
    "    \n",
    "final_OHLC_df.reset_index(inplace=True) # Re-setting the index\n",
    "    \n",
    "# Setting index to symbol and date\n",
    "final_OHLC_df.set_index([\"Date\", \"Symbol\"], inplace=True)\n",
    "    \n",
    "  "
   ]
  },
  {
   "cell_type": "code",
   "execution_count": 34,
   "id": "e0d8f662-87a3-46a9-908b-f95ac5399597",
   "metadata": {},
   "outputs": [],
   "source": [
    "final_OHLC_df[\"Returns\"] = (final_OHLC_df[\"Close\"] - final_OHLC_df[\"Open\"])/final_OHLC_df[\"Open\"]\n",
    "\n",
    "\n",
    "final_OHLC_df.to_csv('../Project_3/S&P_500_Data')"
   ]
  },
  {
   "cell_type": "code",
   "execution_count": null,
   "id": "f53004b6-a968-4fa5-92dd-d5fa0818058b",
   "metadata": {},
   "outputs": [],
   "source": []
  },
  {
   "cell_type": "code",
   "execution_count": null,
   "id": "4c83b0cd-4f66-487b-87a5-08e0d3807a63",
   "metadata": {},
   "outputs": [],
   "source": []
  }
 ],
 "metadata": {
  "kernelspec": {
   "display_name": "Python 3 (ipykernel)",
   "language": "python",
   "name": "python3"
  },
  "language_info": {
   "codemirror_mode": {
    "name": "ipython",
    "version": 3
   },
   "file_extension": ".py",
   "mimetype": "text/x-python",
   "name": "python",
   "nbconvert_exporter": "python",
   "pygments_lexer": "ipython3",
   "version": "3.8.8"
  }
 },
 "nbformat": 4,
 "nbformat_minor": 5
}
