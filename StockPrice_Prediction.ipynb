{
 "cells": [
  {
   "cell_type": "code",
   "execution_count": 46,
   "id": "17b301dd-fd48-42dd-a28b-1bc4556b4051",
   "metadata": {},
   "outputs": [],
   "source": [
    "# Import Libraries\n",
    "import pandas as pd \n",
    "import numpy as np \n",
    "import yfinance as yf\n",
    "from datetime import datetime, timedelta\n",
    "import os\n",
    "from newsapi import NewsApiClient\n",
    "import nltk\n",
    "from nltk.sentiment.vader import SentimentIntensityAnalyzer\n",
    "from dotenv import load_dotenv, find_dotenv\n",
    "load_dotenv(\"newsapi.env\")\n",
    "from sklearn.preprocessing import StandardScaler\n",
    "from sklearn.model_selection import train_test_split\n",
    "from sklearn.ensemble import RandomForestClassifier\n",
    "from sklearn.metrics import confusion_matrix, accuracy_score, classification_report\n",
    "from collections import Counter"
   ]
  },
  {
   "cell_type": "markdown",
   "id": "972a92bd-6b63-4d5c-9da1-673133a4de5e",
   "metadata": {},
   "source": [
    "### Stock Data Pull"
   ]
  },
  {
   "cell_type": "code",
   "execution_count": 2,
   "id": "359504eb-977a-4657-b45a-ee5a8ffb5992",
   "metadata": {},
   "outputs": [
    {
     "data": {
      "text/html": [
       "<div>\n",
       "<style scoped>\n",
       "    .dataframe tbody tr th:only-of-type {\n",
       "        vertical-align: middle;\n",
       "    }\n",
       "\n",
       "    .dataframe tbody tr th {\n",
       "        vertical-align: top;\n",
       "    }\n",
       "\n",
       "    .dataframe thead th {\n",
       "        text-align: right;\n",
       "    }\n",
       "</style>\n",
       "<table border=\"1\" class=\"dataframe\">\n",
       "  <thead>\n",
       "    <tr style=\"text-align: right;\">\n",
       "      <th></th>\n",
       "      <th>Symbol</th>\n",
       "      <th>Name</th>\n",
       "      <th>Industry</th>\n",
       "      <th>Market Cap</th>\n",
       "    </tr>\n",
       "  </thead>\n",
       "  <tbody>\n",
       "    <tr>\n",
       "      <th>0</th>\n",
       "      <td>AAPL</td>\n",
       "      <td>Apple Inc.</td>\n",
       "      <td>Electronic Technology</td>\n",
       "      <td>$ 2,986,128,347,290.24</td>\n",
       "    </tr>\n",
       "    <tr>\n",
       "      <th>1</th>\n",
       "      <td>MSFT</td>\n",
       "      <td>Microsoft Corporation</td>\n",
       "      <td>Technology Services</td>\n",
       "      <td>$ 2,513,296,516,647.36</td>\n",
       "    </tr>\n",
       "    <tr>\n",
       "      <th>2</th>\n",
       "      <td>GOOG</td>\n",
       "      <td>Alphabet Inc.</td>\n",
       "      <td>Technology Services</td>\n",
       "      <td>$ 1,927,101,773,229.48</td>\n",
       "    </tr>\n",
       "    <tr>\n",
       "      <th>3</th>\n",
       "      <td>GOOGL</td>\n",
       "      <td>Alphabet Inc.</td>\n",
       "      <td>Technology Services</td>\n",
       "      <td>$ 1,923,705,624,039.54</td>\n",
       "    </tr>\n",
       "    <tr>\n",
       "      <th>4</th>\n",
       "      <td>AMZN</td>\n",
       "      <td>Amazon.com, Inc.</td>\n",
       "      <td>Retail Trade</td>\n",
       "      <td>$ 1,728,404,755,739.39</td>\n",
       "    </tr>\n",
       "  </tbody>\n",
       "</table>\n",
       "</div>"
      ],
      "text/plain": [
       "  Symbol                   Name               Industry  \\\n",
       "0   AAPL             Apple Inc.  Electronic Technology   \n",
       "1   MSFT  Microsoft Corporation    Technology Services   \n",
       "2   GOOG          Alphabet Inc.    Technology Services   \n",
       "3  GOOGL          Alphabet Inc.    Technology Services   \n",
       "4   AMZN       Amazon.com, Inc.           Retail Trade   \n",
       "\n",
       "               Market Cap   \n",
       "0   $ 2,986,128,347,290.24  \n",
       "1   $ 2,513,296,516,647.36  \n",
       "2   $ 1,927,101,773,229.48  \n",
       "3   $ 1,923,705,624,039.54  \n",
       "4   $ 1,728,404,755,739.39  "
      ]
     },
     "execution_count": 2,
     "metadata": {},
     "output_type": "execute_result"
    }
   ],
   "source": [
    "# Get S&P500 symbols ranked by market cap \n",
    "sp500_by_marketcap = pd.read_csv('SP500_By_MarketCap.csv')\n",
    "sp500_by_marketcap.head()"
   ]
  },
  {
   "cell_type": "code",
   "execution_count": 68,
   "id": "4016e325-ebcf-4035-a531-6f9458825682",
   "metadata": {},
   "outputs": [
    {
     "name": "stdout",
     "output_type": "stream",
     "text": [
      "['AAPL', 'MSFT']\n"
     ]
    }
   ],
   "source": [
    "# Get tickers in a list\n",
    "\n",
    "tickers = sp500_by_marketcap['Symbol'].head(2).tolist()\n",
    "print(tickers)"
   ]
  },
  {
   "cell_type": "code",
   "execution_count": 69,
   "id": "37864a6a-e728-4bca-8b6f-8d32c4719b3c",
   "metadata": {},
   "outputs": [],
   "source": [
    "# Set timeframe \n",
    "delta = 90\n",
    "end = datetime.now()\n",
    "start = datetime.now() - timedelta(delta)"
   ]
  },
  {
   "cell_type": "code",
   "execution_count": 70,
   "id": "770a9563-6e05-462e-88e9-0459bae6999a",
   "metadata": {},
   "outputs": [
    {
     "name": "stdout",
     "output_type": "stream",
     "text": [
      "[*********************100%***********************]  1 of 1 completed\n",
      "[*********************100%***********************]  1 of 1 completed\n"
     ]
    },
    {
     "data": {
      "text/html": [
       "<div>\n",
       "<style scoped>\n",
       "    .dataframe tbody tr th:only-of-type {\n",
       "        vertical-align: middle;\n",
       "    }\n",
       "\n",
       "    .dataframe tbody tr th {\n",
       "        vertical-align: top;\n",
       "    }\n",
       "\n",
       "    .dataframe thead th {\n",
       "        text-align: right;\n",
       "    }\n",
       "</style>\n",
       "<table border=\"1\" class=\"dataframe\">\n",
       "  <thead>\n",
       "    <tr style=\"text-align: right;\">\n",
       "      <th></th>\n",
       "      <th>Date</th>\n",
       "      <th>Open</th>\n",
       "      <th>High</th>\n",
       "      <th>Low</th>\n",
       "      <th>Close</th>\n",
       "      <th>Adj Close</th>\n",
       "      <th>Volume</th>\n",
       "      <th>Stock</th>\n",
       "    </tr>\n",
       "    <tr>\n",
       "      <th>unique_key</th>\n",
       "      <th></th>\n",
       "      <th></th>\n",
       "      <th></th>\n",
       "      <th></th>\n",
       "      <th></th>\n",
       "      <th></th>\n",
       "      <th></th>\n",
       "      <th></th>\n",
       "    </tr>\n",
       "  </thead>\n",
       "  <tbody>\n",
       "    <tr>\n",
       "      <th>AAPL2022-01-13</th>\n",
       "      <td>2022-01-13</td>\n",
       "      <td>175.779999</td>\n",
       "      <td>176.619995</td>\n",
       "      <td>171.789993</td>\n",
       "      <td>172.190002</td>\n",
       "      <td>171.970901</td>\n",
       "      <td>84505800</td>\n",
       "      <td>AAPL</td>\n",
       "    </tr>\n",
       "    <tr>\n",
       "      <th>AAPL2022-01-14</th>\n",
       "      <td>2022-01-14</td>\n",
       "      <td>171.339996</td>\n",
       "      <td>173.779999</td>\n",
       "      <td>171.089996</td>\n",
       "      <td>173.070007</td>\n",
       "      <td>172.849792</td>\n",
       "      <td>80440800</td>\n",
       "      <td>AAPL</td>\n",
       "    </tr>\n",
       "    <tr>\n",
       "      <th>AAPL2022-01-18</th>\n",
       "      <td>2022-01-18</td>\n",
       "      <td>171.509995</td>\n",
       "      <td>172.539993</td>\n",
       "      <td>169.410004</td>\n",
       "      <td>169.800003</td>\n",
       "      <td>169.583939</td>\n",
       "      <td>90956700</td>\n",
       "      <td>AAPL</td>\n",
       "    </tr>\n",
       "    <tr>\n",
       "      <th>AAPL2022-01-19</th>\n",
       "      <td>2022-01-19</td>\n",
       "      <td>170.000000</td>\n",
       "      <td>171.080002</td>\n",
       "      <td>165.940002</td>\n",
       "      <td>166.229996</td>\n",
       "      <td>166.018478</td>\n",
       "      <td>94815000</td>\n",
       "      <td>AAPL</td>\n",
       "    </tr>\n",
       "    <tr>\n",
       "      <th>AAPL2022-01-20</th>\n",
       "      <td>2022-01-20</td>\n",
       "      <td>166.979996</td>\n",
       "      <td>169.679993</td>\n",
       "      <td>164.179993</td>\n",
       "      <td>164.509995</td>\n",
       "      <td>164.300659</td>\n",
       "      <td>91420500</td>\n",
       "      <td>AAPL</td>\n",
       "    </tr>\n",
       "  </tbody>\n",
       "</table>\n",
       "</div>"
      ],
      "text/plain": [
       "                     Date        Open        High         Low       Close  \\\n",
       "unique_key                                                                  \n",
       "AAPL2022-01-13 2022-01-13  175.779999  176.619995  171.789993  172.190002   \n",
       "AAPL2022-01-14 2022-01-14  171.339996  173.779999  171.089996  173.070007   \n",
       "AAPL2022-01-18 2022-01-18  171.509995  172.539993  169.410004  169.800003   \n",
       "AAPL2022-01-19 2022-01-19  170.000000  171.080002  165.940002  166.229996   \n",
       "AAPL2022-01-20 2022-01-20  166.979996  169.679993  164.179993  164.509995   \n",
       "\n",
       "                 Adj Close    Volume Stock  \n",
       "unique_key                                  \n",
       "AAPL2022-01-13  171.970901  84505800  AAPL  \n",
       "AAPL2022-01-14  172.849792  80440800  AAPL  \n",
       "AAPL2022-01-18  169.583939  90956700  AAPL  \n",
       "AAPL2022-01-19  166.018478  94815000  AAPL  \n",
       "AAPL2022-01-20  164.300659  91420500  AAPL  "
      ]
     },
     "execution_count": 70,
     "metadata": {},
     "output_type": "execute_result"
    }
   ],
   "source": [
    "# Get stock data from yfinance \n",
    "df_stock_data=pd.DataFrame()\n",
    "for ticker in tickers:\n",
    "    ticker_df = yf.download(ticker, start=start, end=end,interval=\"1D\")\n",
    "    ticker_df = ticker_df.reset_index()\n",
    "    ticker_df[\"Stock\"] = ticker\n",
    "    # Creating a unique key by combining Ticker and Publish date\n",
    "    ticker_df[\"unique_key\"] = ticker_df[\"Stock\"]+ticker_df[\"Date\"].astype(str)\n",
    "    df_stock_data =pd.concat([df_stock_data,ticker_df],axis=0)\n",
    "df_stock_data = df_stock_data.set_index(\"unique_key\")\n",
    "df_stock_data.head()"
   ]
  },
  {
   "cell_type": "code",
   "execution_count": 71,
   "id": "fc666494-40b3-4eb4-8910-1c4d9402d447",
   "metadata": {},
   "outputs": [
    {
     "data": {
      "text/html": [
       "<div>\n",
       "<style scoped>\n",
       "    .dataframe tbody tr th:only-of-type {\n",
       "        vertical-align: middle;\n",
       "    }\n",
       "\n",
       "    .dataframe tbody tr th {\n",
       "        vertical-align: top;\n",
       "    }\n",
       "\n",
       "    .dataframe thead th {\n",
       "        text-align: right;\n",
       "    }\n",
       "</style>\n",
       "<table border=\"1\" class=\"dataframe\">\n",
       "  <thead>\n",
       "    <tr style=\"text-align: right;\">\n",
       "      <th></th>\n",
       "      <th>Returns</th>\n",
       "    </tr>\n",
       "    <tr>\n",
       "      <th>unique_key</th>\n",
       "      <th></th>\n",
       "    </tr>\n",
       "  </thead>\n",
       "  <tbody>\n",
       "    <tr>\n",
       "      <th>AAPL2022-01-13</th>\n",
       "      <td>0.005111</td>\n",
       "    </tr>\n",
       "    <tr>\n",
       "      <th>AAPL2022-01-14</th>\n",
       "      <td>-0.018894</td>\n",
       "    </tr>\n",
       "    <tr>\n",
       "      <th>AAPL2022-01-18</th>\n",
       "      <td>-0.021025</td>\n",
       "    </tr>\n",
       "    <tr>\n",
       "      <th>AAPL2022-01-19</th>\n",
       "      <td>-0.010347</td>\n",
       "    </tr>\n",
       "    <tr>\n",
       "      <th>AAPL2022-01-20</th>\n",
       "      <td>-0.012765</td>\n",
       "    </tr>\n",
       "    <tr>\n",
       "      <th>...</th>\n",
       "      <td>...</td>\n",
       "    </tr>\n",
       "    <tr>\n",
       "      <th>MSFT2022-04-06</th>\n",
       "      <td>0.006244</td>\n",
       "    </tr>\n",
       "    <tr>\n",
       "      <th>MSFT2022-04-07</th>\n",
       "      <td>-0.014600</td>\n",
       "    </tr>\n",
       "    <tr>\n",
       "      <th>MSFT2022-04-08</th>\n",
       "      <td>-0.039432</td>\n",
       "    </tr>\n",
       "    <tr>\n",
       "      <th>MSFT2022-04-11</th>\n",
       "      <td>-0.011218</td>\n",
       "    </tr>\n",
       "    <tr>\n",
       "      <th>MSFT2022-04-12</th>\n",
       "      <td>NaN</td>\n",
       "    </tr>\n",
       "  </tbody>\n",
       "</table>\n",
       "<p>124 rows × 1 columns</p>\n",
       "</div>"
      ],
      "text/plain": [
       "                 Returns\n",
       "unique_key              \n",
       "AAPL2022-01-13  0.005111\n",
       "AAPL2022-01-14 -0.018894\n",
       "AAPL2022-01-18 -0.021025\n",
       "AAPL2022-01-19 -0.010347\n",
       "AAPL2022-01-20 -0.012765\n",
       "...                  ...\n",
       "MSFT2022-04-06  0.006244\n",
       "MSFT2022-04-07 -0.014600\n",
       "MSFT2022-04-08 -0.039432\n",
       "MSFT2022-04-11 -0.011218\n",
       "MSFT2022-04-12       NaN\n",
       "\n",
       "[124 rows x 1 columns]"
      ]
     },
     "execution_count": 71,
     "metadata": {},
     "output_type": "execute_result"
    }
   ],
   "source": [
    "# Create \"Returns\" column \n",
    "returns_df = pd.DataFrame()\n",
    "returns_df = pd.DataFrame(df_stock_data[\"Adj Close\"].pct_change().shift(-1))\n",
    "returns_df = returns_df.rename(columns = {\"Adj Close\": \"Returns\"})\n",
    "returns_df"
   ]
  },
  {
   "cell_type": "code",
   "execution_count": 72,
   "id": "5b2af4dc-3d1d-4ee0-8fb2-6a58977d7ab7",
   "metadata": {},
   "outputs": [
    {
     "data": {
      "text/html": [
       "<div>\n",
       "<style scoped>\n",
       "    .dataframe tbody tr th:only-of-type {\n",
       "        vertical-align: middle;\n",
       "    }\n",
       "\n",
       "    .dataframe tbody tr th {\n",
       "        vertical-align: top;\n",
       "    }\n",
       "\n",
       "    .dataframe thead th {\n",
       "        text-align: right;\n",
       "    }\n",
       "</style>\n",
       "<table border=\"1\" class=\"dataframe\">\n",
       "  <thead>\n",
       "    <tr style=\"text-align: right;\">\n",
       "      <th></th>\n",
       "      <th>Date</th>\n",
       "      <th>Open</th>\n",
       "      <th>High</th>\n",
       "      <th>Low</th>\n",
       "      <th>Close</th>\n",
       "      <th>Adj Close</th>\n",
       "      <th>Volume</th>\n",
       "      <th>Stock</th>\n",
       "      <th>Returns</th>\n",
       "    </tr>\n",
       "    <tr>\n",
       "      <th>unique_key</th>\n",
       "      <th></th>\n",
       "      <th></th>\n",
       "      <th></th>\n",
       "      <th></th>\n",
       "      <th></th>\n",
       "      <th></th>\n",
       "      <th></th>\n",
       "      <th></th>\n",
       "      <th></th>\n",
       "    </tr>\n",
       "  </thead>\n",
       "  <tbody>\n",
       "    <tr>\n",
       "      <th>AAPL2022-01-13</th>\n",
       "      <td>2022-01-13</td>\n",
       "      <td>175.779999</td>\n",
       "      <td>176.619995</td>\n",
       "      <td>171.789993</td>\n",
       "      <td>172.190002</td>\n",
       "      <td>171.970901</td>\n",
       "      <td>84505800</td>\n",
       "      <td>AAPL</td>\n",
       "      <td>0.005111</td>\n",
       "    </tr>\n",
       "    <tr>\n",
       "      <th>AAPL2022-01-14</th>\n",
       "      <td>2022-01-14</td>\n",
       "      <td>171.339996</td>\n",
       "      <td>173.779999</td>\n",
       "      <td>171.089996</td>\n",
       "      <td>173.070007</td>\n",
       "      <td>172.849792</td>\n",
       "      <td>80440800</td>\n",
       "      <td>AAPL</td>\n",
       "      <td>-0.018894</td>\n",
       "    </tr>\n",
       "    <tr>\n",
       "      <th>AAPL2022-01-18</th>\n",
       "      <td>2022-01-18</td>\n",
       "      <td>171.509995</td>\n",
       "      <td>172.539993</td>\n",
       "      <td>169.410004</td>\n",
       "      <td>169.800003</td>\n",
       "      <td>169.583939</td>\n",
       "      <td>90956700</td>\n",
       "      <td>AAPL</td>\n",
       "      <td>-0.021025</td>\n",
       "    </tr>\n",
       "    <tr>\n",
       "      <th>AAPL2022-01-19</th>\n",
       "      <td>2022-01-19</td>\n",
       "      <td>170.000000</td>\n",
       "      <td>171.080002</td>\n",
       "      <td>165.940002</td>\n",
       "      <td>166.229996</td>\n",
       "      <td>166.018478</td>\n",
       "      <td>94815000</td>\n",
       "      <td>AAPL</td>\n",
       "      <td>-0.010347</td>\n",
       "    </tr>\n",
       "    <tr>\n",
       "      <th>AAPL2022-01-20</th>\n",
       "      <td>2022-01-20</td>\n",
       "      <td>166.979996</td>\n",
       "      <td>169.679993</td>\n",
       "      <td>164.179993</td>\n",
       "      <td>164.509995</td>\n",
       "      <td>164.300659</td>\n",
       "      <td>91420500</td>\n",
       "      <td>AAPL</td>\n",
       "      <td>-0.012765</td>\n",
       "    </tr>\n",
       "    <tr>\n",
       "      <th>...</th>\n",
       "      <td>...</td>\n",
       "      <td>...</td>\n",
       "      <td>...</td>\n",
       "      <td>...</td>\n",
       "      <td>...</td>\n",
       "      <td>...</td>\n",
       "      <td>...</td>\n",
       "      <td>...</td>\n",
       "      <td>...</td>\n",
       "    </tr>\n",
       "    <tr>\n",
       "      <th>MSFT2022-04-06</th>\n",
       "      <td>2022-04-06</td>\n",
       "      <td>305.190002</td>\n",
       "      <td>307.000000</td>\n",
       "      <td>296.709991</td>\n",
       "      <td>299.500000</td>\n",
       "      <td>299.500000</td>\n",
       "      <td>40110400</td>\n",
       "      <td>MSFT</td>\n",
       "      <td>0.006244</td>\n",
       "    </tr>\n",
       "    <tr>\n",
       "      <th>MSFT2022-04-07</th>\n",
       "      <td>2022-04-07</td>\n",
       "      <td>296.660004</td>\n",
       "      <td>303.649994</td>\n",
       "      <td>296.350006</td>\n",
       "      <td>301.369995</td>\n",
       "      <td>301.369995</td>\n",
       "      <td>31411200</td>\n",
       "      <td>MSFT</td>\n",
       "      <td>-0.014600</td>\n",
       "    </tr>\n",
       "    <tr>\n",
       "      <th>MSFT2022-04-08</th>\n",
       "      <td>2022-04-08</td>\n",
       "      <td>300.440002</td>\n",
       "      <td>301.119995</td>\n",
       "      <td>296.279999</td>\n",
       "      <td>296.970001</td>\n",
       "      <td>296.970001</td>\n",
       "      <td>24347400</td>\n",
       "      <td>MSFT</td>\n",
       "      <td>-0.039432</td>\n",
       "    </tr>\n",
       "    <tr>\n",
       "      <th>MSFT2022-04-11</th>\n",
       "      <td>2022-04-11</td>\n",
       "      <td>291.790009</td>\n",
       "      <td>292.609985</td>\n",
       "      <td>285.000000</td>\n",
       "      <td>285.260010</td>\n",
       "      <td>285.260010</td>\n",
       "      <td>34569300</td>\n",
       "      <td>MSFT</td>\n",
       "      <td>-0.011218</td>\n",
       "    </tr>\n",
       "    <tr>\n",
       "      <th>MSFT2022-04-12</th>\n",
       "      <td>2022-04-12</td>\n",
       "      <td>289.234985</td>\n",
       "      <td>290.739014</td>\n",
       "      <td>280.489990</td>\n",
       "      <td>282.059998</td>\n",
       "      <td>282.059998</td>\n",
       "      <td>30913944</td>\n",
       "      <td>MSFT</td>\n",
       "      <td>NaN</td>\n",
       "    </tr>\n",
       "  </tbody>\n",
       "</table>\n",
       "<p>124 rows × 9 columns</p>\n",
       "</div>"
      ],
      "text/plain": [
       "                     Date        Open        High         Low       Close  \\\n",
       "unique_key                                                                  \n",
       "AAPL2022-01-13 2022-01-13  175.779999  176.619995  171.789993  172.190002   \n",
       "AAPL2022-01-14 2022-01-14  171.339996  173.779999  171.089996  173.070007   \n",
       "AAPL2022-01-18 2022-01-18  171.509995  172.539993  169.410004  169.800003   \n",
       "AAPL2022-01-19 2022-01-19  170.000000  171.080002  165.940002  166.229996   \n",
       "AAPL2022-01-20 2022-01-20  166.979996  169.679993  164.179993  164.509995   \n",
       "...                   ...         ...         ...         ...         ...   \n",
       "MSFT2022-04-06 2022-04-06  305.190002  307.000000  296.709991  299.500000   \n",
       "MSFT2022-04-07 2022-04-07  296.660004  303.649994  296.350006  301.369995   \n",
       "MSFT2022-04-08 2022-04-08  300.440002  301.119995  296.279999  296.970001   \n",
       "MSFT2022-04-11 2022-04-11  291.790009  292.609985  285.000000  285.260010   \n",
       "MSFT2022-04-12 2022-04-12  289.234985  290.739014  280.489990  282.059998   \n",
       "\n",
       "                 Adj Close    Volume Stock   Returns  \n",
       "unique_key                                            \n",
       "AAPL2022-01-13  171.970901  84505800  AAPL  0.005111  \n",
       "AAPL2022-01-14  172.849792  80440800  AAPL -0.018894  \n",
       "AAPL2022-01-18  169.583939  90956700  AAPL -0.021025  \n",
       "AAPL2022-01-19  166.018478  94815000  AAPL -0.010347  \n",
       "AAPL2022-01-20  164.300659  91420500  AAPL -0.012765  \n",
       "...                    ...       ...   ...       ...  \n",
       "MSFT2022-04-06  299.500000  40110400  MSFT  0.006244  \n",
       "MSFT2022-04-07  301.369995  31411200  MSFT -0.014600  \n",
       "MSFT2022-04-08  296.970001  24347400  MSFT -0.039432  \n",
       "MSFT2022-04-11  285.260010  34569300  MSFT -0.011218  \n",
       "MSFT2022-04-12  282.059998  30913944  MSFT       NaN  \n",
       "\n",
       "[124 rows x 9 columns]"
      ]
     },
     "execution_count": 72,
     "metadata": {},
     "output_type": "execute_result"
    }
   ],
   "source": [
    "df_stock_data = pd.concat([df_stock_data,returns_df],join = 'outer',axis = 1)\n",
    "df_stock_data"
   ]
  },
  {
   "cell_type": "markdown",
   "id": "4e62b15a-9354-42a1-b590-bb15340ad6ef",
   "metadata": {},
   "source": [
    "### Sentiment Analysis"
   ]
  },
  {
   "cell_type": "code",
   "execution_count": 73,
   "id": "19cb1689-abd5-4cb7-b69c-65ca6fa0a3f5",
   "metadata": {},
   "outputs": [
    {
     "name": "stderr",
     "output_type": "stream",
     "text": [
      "[nltk_data] Downloading package vader_lexicon to\n",
      "[nltk_data]     /Users/rajaabhishek/nltk_data...\n",
      "[nltk_data]   Package vader_lexicon is already up-to-date!\n"
     ]
    }
   ],
   "source": [
    "# Download/Update the VADER Lexicon\n",
    "nltk.download('vader_lexicon')\n",
    "\n",
    "# Initialize the VADER sentiment analyzer\n",
    "analyzer = SentimentIntensityAnalyzer()"
   ]
  },
  {
   "cell_type": "code",
   "execution_count": 74,
   "id": "0066f005-9503-473b-88f2-92e0032790d9",
   "metadata": {},
   "outputs": [
    {
     "data": {
      "text/plain": [
       "'/Users/rajaabhishek/FinTech/NW_Fintech_Project3/.env'"
      ]
     },
     "execution_count": 74,
     "metadata": {},
     "output_type": "execute_result"
    }
   ],
   "source": [
    "load_dotenv()\n",
    "find_dotenv()"
   ]
  },
  {
   "cell_type": "code",
   "execution_count": 75,
   "id": "4eb27226-c86e-4cf0-a818-d0e7daec0ea1",
   "metadata": {},
   "outputs": [
    {
     "data": {
      "text/plain": [
       "str"
      ]
     },
     "execution_count": 75,
     "metadata": {},
     "output_type": "execute_result"
    }
   ],
   "source": [
    "# Reading the News API key enviroment variable\n",
    "api_key = os.getenv(\"news_api\")\n",
    "type(api_key)"
   ]
  },
  {
   "cell_type": "code",
   "execution_count": 76,
   "id": "a340d01c-f7ba-496a-83a8-8cb87b77ed8d",
   "metadata": {},
   "outputs": [],
   "source": [
    "# Create a newsapi client\n",
    "newsapi = NewsApiClient(api_key=api_key)"
   ]
  },
  {
   "cell_type": "code",
   "execution_count": 77,
   "id": "66701ef9-d3d7-4d03-a7a2-060abe865f71",
   "metadata": {
    "tags": []
   },
   "outputs": [
    {
     "ename": "NewsAPIException",
     "evalue": "{'status': 'error', 'code': 'rateLimited', 'message': 'You have made too many requests recently. Developer accounts are limited to 100 requests over a 24 hour period (50 requests available every 12 hours). Please upgrade to a paid plan if you need more requests.'}",
     "output_type": "error",
     "traceback": [
      "\u001b[0;31m---------------------------------------------------------------------------\u001b[0m",
      "\u001b[0;31mNewsAPIException\u001b[0m                          Traceback (most recent call last)",
      "\u001b[0;32m/var/folders/nx/00s1gvxs1v35qwm0n0yggkwc0000gn/T/ipykernel_70156/2943561545.py\u001b[0m in \u001b[0;36m<module>\u001b[0;34m\u001b[0m\n\u001b[1;32m      2\u001b[0m \u001b[0;34m\u001b[0m\u001b[0m\n\u001b[1;32m      3\u001b[0m \u001b[0;32mfor\u001b[0m \u001b[0mticker\u001b[0m \u001b[0;32min\u001b[0m \u001b[0mtickers\u001b[0m\u001b[0;34m:\u001b[0m\u001b[0;34m\u001b[0m\u001b[0;34m\u001b[0m\u001b[0m\n\u001b[0;32m----> 4\u001b[0;31m     ticker_headlines = newsapi.get_everything(q=ticker,\n\u001b[0m\u001b[1;32m      5\u001b[0m                                               \u001b[0mlanguage\u001b[0m\u001b[0;34m=\u001b[0m\u001b[0;34m\"en\"\u001b[0m\u001b[0;34m,\u001b[0m\u001b[0;34m\u001b[0m\u001b[0;34m\u001b[0m\u001b[0m\n\u001b[1;32m      6\u001b[0m                                               \u001b[0mpage_size\u001b[0m\u001b[0;34m=\u001b[0m\u001b[0;36m100\u001b[0m\u001b[0;34m,\u001b[0m\u001b[0;34m\u001b[0m\u001b[0;34m\u001b[0m\u001b[0m\n",
      "\u001b[0;32m~/opt/anaconda3/envs/NLP/lib/python3.8/site-packages/newsapi/newsapi_client.py\u001b[0m in \u001b[0;36mget_everything\u001b[0;34m(self, q, qintitle, sources, domains, exclude_domains, from_param, to, language, sort_by, page, page_size)\u001b[0m\n\u001b[1;32m    324\u001b[0m         \u001b[0;31m# Check Status of Request\u001b[0m\u001b[0;34m\u001b[0m\u001b[0;34m\u001b[0m\u001b[0;34m\u001b[0m\u001b[0m\n\u001b[1;32m    325\u001b[0m         \u001b[0;32mif\u001b[0m \u001b[0mr\u001b[0m\u001b[0;34m.\u001b[0m\u001b[0mstatus_code\u001b[0m \u001b[0;34m!=\u001b[0m \u001b[0mrequests\u001b[0m\u001b[0;34m.\u001b[0m\u001b[0mcodes\u001b[0m\u001b[0;34m.\u001b[0m\u001b[0mok\u001b[0m\u001b[0;34m:\u001b[0m\u001b[0;34m\u001b[0m\u001b[0;34m\u001b[0m\u001b[0m\n\u001b[0;32m--> 326\u001b[0;31m             \u001b[0;32mraise\u001b[0m \u001b[0mNewsAPIException\u001b[0m\u001b[0;34m(\u001b[0m\u001b[0mr\u001b[0m\u001b[0;34m.\u001b[0m\u001b[0mjson\u001b[0m\u001b[0;34m(\u001b[0m\u001b[0;34m)\u001b[0m\u001b[0;34m)\u001b[0m\u001b[0;34m\u001b[0m\u001b[0;34m\u001b[0m\u001b[0m\n\u001b[0m\u001b[1;32m    327\u001b[0m \u001b[0;34m\u001b[0m\u001b[0m\n\u001b[1;32m    328\u001b[0m         \u001b[0;32mreturn\u001b[0m \u001b[0mr\u001b[0m\u001b[0;34m.\u001b[0m\u001b[0mjson\u001b[0m\u001b[0;34m(\u001b[0m\u001b[0;34m)\u001b[0m\u001b[0;34m\u001b[0m\u001b[0;34m\u001b[0m\u001b[0m\n",
      "\u001b[0;31mNewsAPIException\u001b[0m: {'status': 'error', 'code': 'rateLimited', 'message': 'You have made too many requests recently. Developer accounts are limited to 100 requests over a 24 hour period (50 requests available every 12 hours). Please upgrade to a paid plan if you need more requests.'}"
     ]
    }
   ],
   "source": [
    "news_df = pd.DataFrame(index = pd.RangeIndex(start = 0, stop = 100))\n",
    "\n",
    "for ticker in tickers:\n",
    "    ticker_headlines = newsapi.get_everything(q=ticker,\n",
    "                                              language=\"en\",\n",
    "                                              page_size=100,\n",
    "                                              sort_by=\"relevancy\"\n",
    "                                             )\n",
    "    ticker_sentiments = []\n",
    "    \n",
    "    for article in ticker_headlines[\"articles\"]:\n",
    "        try:\n",
    "            text = article[\"content\"]\n",
    "            date = article[\"publishedAt\"][:10]\n",
    "            sentiment = analyzer.polarity_scores(text)\n",
    "            compound = sentiment[\"compound\"]\n",
    "            pos = sentiment[\"pos\"]\n",
    "            neu = sentiment[\"neu\"]\n",
    "            neg = sentiment[\"neg\"]\n",
    "\n",
    "            ticker_sentiments.append({\n",
    "                \"text\": text,\n",
    "                \"Stock\" : ticker,\n",
    "                \"date\": date,\n",
    "                \"compound\": compound,\n",
    "                \"positive\": pos,\n",
    "                \"negative\": neg,\n",
    "                \"neutral\": neu\n",
    "\n",
    "            })\n",
    "\n",
    "        except AttributeError:\n",
    "            pass\n",
    "# Create DataFrame\n",
    "    ticker_df = pd.DataFrame(ticker_sentiments)\n",
    "    \n",
    "# Reorder DataFrame columns\n",
    "cols = [\"date\", \"Stock\", \"text\", \"compound\", \"positive\", \"negative\", \"neutral\"]\n",
    "ticker_df = ticker_df[cols]\n",
    "ticker_df.head()"
   ]
  },
  {
   "cell_type": "markdown",
   "id": "01b34f7e-ac86-43e0-b6c2-827ac38ccf12",
   "metadata": {},
   "source": [
    "### Modeling Data Preperation"
   ]
  },
  {
   "cell_type": "code",
   "execution_count": null,
   "id": "91f82a13-2fd0-4670-8569-c7e13c3f81f8",
   "metadata": {},
   "outputs": [],
   "source": [
    "# Preparing Dataset X & y\n",
    "\n",
    "target = \n",
    "\n",
    "X = final_df.copy()\n",
    "X.drop(target, axis=1, inplace=True)\n",
    "X.head()\n",
    "\n",
    "y = all_df[target]\n",
    "y.head()"
   ]
  },
  {
   "cell_type": "code",
   "execution_count": null,
   "id": "a7eca7a4-237c-4928-9fa6-559b2417d24f",
   "metadata": {},
   "outputs": [],
   "source": [
    "# Preparing Test & Train Data\n",
    "X_train, X_test, y_train, y_test = train_test_split(X, y, random_state=78)"
   ]
  },
  {
   "cell_type": "code",
   "execution_count": null,
   "id": "ba90cf71-ca1e-4093-a824-bfc0a5e3e15c",
   "metadata": {},
   "outputs": [],
   "source": [
    "#Check if there is a class imbalance \n",
    "Counter(y_train) "
   ]
  },
  {
   "cell_type": "code",
   "execution_count": null,
   "id": "a738f0ce-a582-4419-b07f-1d72e75ef1c2",
   "metadata": {},
   "outputs": [],
   "source": [
    "# Scale data \n",
    "scaler = StandardScaler()\n",
    "X_scaler = scaler.fit(X_train)\n",
    "X_train_scaled = X_scaler.transform(X_train)\n",
    "X_test_scaled = X_scaler.transform(X_test)"
   ]
  },
  {
   "cell_type": "markdown",
   "id": "46730cce-e4a9-4bd1-8855-566fa60b9726",
   "metadata": {},
   "source": [
    "### Logistic Regression"
   ]
  },
  {
   "cell_type": "code",
   "execution_count": null,
   "id": "0b88eeaf-2ed6-407b-9303-599e998470d8",
   "metadata": {},
   "outputs": [],
   "source": [
    "# Fit a logistic regression model\n",
    "from sklearn.linear_model import LogisticRegression\n",
    "\n",
    "model = LogisticRegression(solver='lbfgs', random_state=1)\n",
    "model.fit(X_train, y_train)"
   ]
  },
  {
   "cell_type": "code",
   "execution_count": null,
   "id": "ea343e3b-0832-4507-a9c7-1f42daf76418",
   "metadata": {},
   "outputs": [],
   "source": [
    "# Display the confusion matrix\n",
    "from sklearn.metrics import confusion_matrix\n",
    "\n",
    "y_pred_lr = model.predict(X_test)\n",
    "confusion_matrix(y_test, y_pred)"
   ]
  },
  {
   "cell_type": "code",
   "execution_count": null,
   "id": "84153702-5f05-4a0f-96eb-cba88e2b39f1",
   "metadata": {},
   "outputs": [],
   "source": [
    "# Calculate the balanced accuracy score\n",
    "from sklearn.metrics import balanced_accuracy_score\n",
    "\n",
    "balanced_accuracy_score(y_test, y_pred_lr)"
   ]
  },
  {
   "cell_type": "code",
   "execution_count": null,
   "id": "7c27fdbb-0ebe-46c9-a755-195fe1bf73c2",
   "metadata": {},
   "outputs": [],
   "source": [
    "# Print the imbalanced classification report\n",
    "from imblearn.metrics import classification_report_imbalanced\n",
    "\n",
    "print(classification_report_imbalanced(y_test, y_pred))"
   ]
  },
  {
   "cell_type": "markdown",
   "id": "fb32fba0-67f7-4264-808b-6797a3c06465",
   "metadata": {},
   "source": [
    "### Random Forest"
   ]
  },
  {
   "cell_type": "code",
   "execution_count": null,
   "id": "36fb8a73-d2f0-4f46-90c2-084ef7ed80ce",
   "metadata": {},
   "outputs": [],
   "source": [
    "# Fit a Random Forest Classifier\n",
    "from imblearn.ensemble import BalancedRandomForestClassifier\n",
    "brf = BalancedRandomForestClassifier(n_estimators=1000, random_state=1)\n",
    "brf.fit(X_train, y_train)"
   ]
  },
  {
   "cell_type": "code",
   "execution_count": null,
   "id": "e9ea4ac6-091c-4955-9514-0f7900cfc5b4",
   "metadata": {},
   "outputs": [],
   "source": [
    "# Display the confusion matrix\n",
    "from sklearn.metrics import confusion_matrix\n",
    "\n",
    "y_pred_brf = model.predict(X_test)\n",
    "confusion_matrix(y_test, y_pred_brf)"
   ]
  },
  {
   "cell_type": "code",
   "execution_count": null,
   "id": "dc826c65-4ea8-4a75-8529-727d95e5eca7",
   "metadata": {},
   "outputs": [],
   "source": [
    "# Print the imbalanced classification report\n",
    "from imblearn.metrics import classification_report_imbalanced\n",
    "\n",
    "print(classification_report_imbalanced(y_test, y_pred_brf))"
   ]
  },
  {
   "cell_type": "code",
   "execution_count": null,
   "id": "7100800e-f726-4f5f-a4b5-67b5f4c67591",
   "metadata": {},
   "outputs": [],
   "source": [
    "# List the features sorted in descending order by feature importance\n",
    "importances_sorted_brf = sorted(zip(brf_model.feature_importances_, X.columns), reverse=True)\n",
    "importances_sorted_brf"
   ]
  },
  {
   "cell_type": "markdown",
   "id": "b2964f05-20c6-4c88-b5a9-b4bf738f3c7d",
   "metadata": {},
   "source": [
    "### Gradient Boost"
   ]
  },
  {
   "cell_type": "code",
   "execution_count": null,
   "id": "a7885355-a11d-419c-b41d-aad1cb1e3f84",
   "metadata": {},
   "outputs": [],
   "source": [
    "# Choose learning rate\n",
    "learning_rates = [0.05, 0.1, 0.25, 0.5, 0.75, 1]\n",
    "for learning_rate in learning_rates:\n",
    "    model = GradientBoostingClassifier(\n",
    "        n_estimators=100,\n",
    "        learning_rate=learning_rate,\n",
    "        max_features=2,\n",
    "        max_depth=3,\n",
    "        random_state=0)\n",
    "    model.fit(X_train_scaled,y_train.ravel())\n",
    "    print(\"Learning rate: \", learning_rate)\n",
    "\n",
    "    # Score the model\n",
    "    print(\"Accuracy score (training): {0:.3f}\".format(\n",
    "        model.score(\n",
    "            X_train_scaled,\n",
    "            y_train.ravel())))\n",
    "    print(\"Accuracy score (validation): {0:.3f}\".format(\n",
    "        model.score(\n",
    "            X_test_scaled,\n",
    "            y_test.ravel())))\n",
    "    print()"
   ]
  },
  {
   "cell_type": "code",
   "execution_count": null,
   "id": "9554b573-9c3a-4949-85b2-2a8157354e52",
   "metadata": {},
   "outputs": [],
   "source": [
    "# Create GradientBoostingClassifier model\n",
    "model = GradientBoostingClassifier(\n",
    "    n_estimators=500,\n",
    "    learning_rate=1,\n",
    "    max_features=5,\n",
    "    max_depth=3,\n",
    "    random_state=0)\n",
    "\n",
    "# Fit the model\n",
    "model.fit(X_train_scaled,y_train.ravel())\n",
    "\n",
    "# Score the model\n",
    "print(\"Accuracy score (training): {0:.3f}\".format(\n",
    "    model.score(\n",
    "        X_train_scaled,\n",
    "        y_train)))\n",
    "print(\"Accuracy score (validation): {0:.3f}\".format(\n",
    "    model.score(\n",
    "        X_test_scaled,\n",
    "        y_test)))"
   ]
  },
  {
   "cell_type": "code",
   "execution_count": null,
   "id": "6d216a86-372f-41c3-be4c-55a951600317",
   "metadata": {},
   "outputs": [],
   "source": [
    "# Make predictions\n",
    "predictions = model.predict(X_test_scaled)\n",
    "\n",
    "# Generate accuracy score for predictions using y_test\n",
    "accuracy_score(y_test, predictions)"
   ]
  },
  {
   "cell_type": "code",
   "execution_count": null,
   "id": "cf447983-ab71-4474-8fa7-95a9b729fd7e",
   "metadata": {},
   "outputs": [],
   "source": [
    "# Generate classification report\n",
    "print(classification_report(y_test, predictions))"
   ]
  }
 ],
 "metadata": {
  "kernelspec": {
   "display_name": "Python 3 (ipykernel)",
   "language": "python",
   "name": "python3"
  },
  "language_info": {
   "codemirror_mode": {
    "name": "ipython",
    "version": 3
   },
   "file_extension": ".py",
   "mimetype": "text/x-python",
   "name": "python",
   "nbconvert_exporter": "python",
   "pygments_lexer": "ipython3",
   "version": "3.8.12"
  }
 },
 "nbformat": 4,
 "nbformat_minor": 5
}
