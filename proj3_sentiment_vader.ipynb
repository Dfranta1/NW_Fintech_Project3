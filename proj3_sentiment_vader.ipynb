{
 "cells": [
  {
   "cell_type": "code",
   "execution_count": 1,
   "id": "8c998d54-f78f-45e0-abaa-02a6c7bf6485",
   "metadata": {},
   "outputs": [
    {
     "name": "stdout",
     "output_type": "stream",
     "text": [
      "Requirement already satisfied: newsapi-python in c:\\users\\josh\\anaconda3\\envs\\pyvizenv\\lib\\site-packages (0.2.6)\n",
      "Requirement already satisfied: requests<3.0.0 in c:\\users\\josh\\anaconda3\\envs\\pyvizenv\\lib\\site-packages (from newsapi-python) (2.26.0)\n",
      "Requirement already satisfied: idna<4,>=2.5 in c:\\users\\josh\\anaconda3\\envs\\pyvizenv\\lib\\site-packages (from requests<3.0.0->newsapi-python) (3.2)\n",
      "Requirement already satisfied: urllib3<1.27,>=1.21.1 in c:\\users\\josh\\anaconda3\\envs\\pyvizenv\\lib\\site-packages (from requests<3.0.0->newsapi-python) (1.26.7)\n",
      "Requirement already satisfied: charset-normalizer~=2.0.0 in c:\\users\\josh\\anaconda3\\envs\\pyvizenv\\lib\\site-packages (from requests<3.0.0->newsapi-python) (2.0.4)\n",
      "Requirement already satisfied: certifi>=2017.4.17 in c:\\users\\josh\\anaconda3\\envs\\pyvizenv\\lib\\site-packages (from requests<3.0.0->newsapi-python) (2021.10.8)\n"
     ]
    }
   ],
   "source": [
    "!pip install newsapi-python"
   ]
  },
  {
   "cell_type": "code",
   "execution_count": 2,
   "id": "48fc1aa5-c893-47ff-b1a3-d93d6d045c82",
   "metadata": {},
   "outputs": [
    {
     "data": {
      "text/plain": [
       "True"
      ]
     },
     "execution_count": 2,
     "metadata": {},
     "output_type": "execute_result"
    }
   ],
   "source": [
    "import os\n",
    "import pandas as pd\n",
    "from newsapi import NewsApiClient\n",
    "from dotenv import load_dotenv\n",
    "load_dotenv()"
   ]
  },
  {
   "cell_type": "code",
   "execution_count": 3,
   "id": "28d7ea78-cece-4cbf-8b38-d10feaa2988a",
   "metadata": {},
   "outputs": [
    {
     "name": "stderr",
     "output_type": "stream",
     "text": [
      "[nltk_data] Downloading package vader_lexicon to\n",
      "[nltk_data]     C:\\Users\\josh\\AppData\\Roaming\\nltk_data...\n",
      "[nltk_data]   Package vader_lexicon is already up-to-date!\n"
     ]
    }
   ],
   "source": [
    "# nltk and vader imports\n",
    "\n",
    "import nltk as nltk\n",
    "nltk.download('vader_lexicon')\n",
    "from nltk.sentiment.vader import SentimentIntensityAnalyzer\n",
    "analyzer = SentimentIntensityAnalyzer()\n",
    "%matplotlib inline"
   ]
  },
  {
   "cell_type": "code",
   "execution_count": 6,
   "id": "6a5424f6-49a6-4eb5-a134-02d775a35a20",
   "metadata": {},
   "outputs": [
    {
     "name": "stdout",
     "output_type": "stream",
     "text": [
      "7a00abbd27124764b6d8b016bbeaf634\n"
     ]
    }
   ],
   "source": [
    "api_key = \"7a00abbd27124764b6d8b016bbeaf634\"\n",
    "\n",
    "#api_key = os.getenv(news_api)\n",
    "api_key\n",
    "print(api_key)"
   ]
  },
  {
   "cell_type": "code",
   "execution_count": 7,
   "id": "e1c4b632-f2c5-46c2-bce2-b0fbca8c4459",
   "metadata": {},
   "outputs": [],
   "source": [
    "newsapi = NewsApiClient(api_key=api_key)"
   ]
  },
  {
   "cell_type": "code",
   "execution_count": 16,
   "id": "08565f85-0113-4247-baef-8415ff948011",
   "metadata": {},
   "outputs": [],
   "source": [
    "apple_news=newsapi.get_everything(q=\"Apple\",language=\"en\")"
   ]
  },
  {
   "cell_type": "code",
   "execution_count": 17,
   "id": "15f55233-aa9a-4f15-82f2-4073111adda0",
   "metadata": {},
   "outputs": [
    {
     "data": {
      "text/plain": [
       "{'status': 'ok',\n",
       " 'totalResults': 1,\n",
       " 'articles': [{'source': {'id': 'ars-technica', 'name': 'Ars Technica'},\n",
       "   'author': 'Samuel Axon',\n",
       "   'title': 'Apple announces dates and details about WWDC 2022 - Ars Technica',\n",
       "   'description': 'Company will keep things virtual, as it has since the beginning of the pandemic.',\n",
       "   'url': 'https://arstechnica.com/gadgets/2022/04/apple-announces-dates-and-details-about-wwdc-2022/',\n",
       "   'urlToImage': 'https://cdn.arstechnica.net/wp-content/uploads/2022/04/Apple-WWDC22-announcement-hero-760x380.jpg',\n",
       "   'publishedAt': '2022-04-05T18:43:41Z',\n",
       "   'content': \"Enlarge/ The image Apple shared alongside the WWDC 2022 announcement.\\r\\n13 with 12 posters participating\\r\\nApple's annual Worldwide Developers Conference (WWDC) will return this summer, as if there wer… [+1667 chars]\"}]}"
      ]
     },
     "execution_count": 17,
     "metadata": {},
     "output_type": "execute_result"
    }
   ],
   "source": [
    "stock_apple_headlines = newsapi.get_top_headlines(q=\"Apple\", language=\"en\", country=\"us\")\n",
    "stock_apple_headlines "
   ]
  },
  {
   "cell_type": "code",
   "execution_count": 18,
   "id": "d353e6a7-a6d7-46ed-aeec-9124559285d3",
   "metadata": {},
   "outputs": [
    {
     "name": "stdout",
     "output_type": "stream",
     "text": [
      "Total articles about Apple: 1\n"
     ]
    }
   ],
   "source": [
    "# Print total articles\n",
    "print(f\"Total articles about Apple: {stock_apple_headlines['totalResults']}\")\n",
    "\n",
    "# Show sample article\n",
    "#stock_apple[\"articles\"][0]"
   ]
  },
  {
   "cell_type": "code",
   "execution_count": 19,
   "id": "4895c5fb-9b08-4b62-8194-3760cf470ae6",
   "metadata": {},
   "outputs": [
    {
     "data": {
      "text/html": [
       "<div>\n",
       "<style scoped>\n",
       "    .dataframe tbody tr th:only-of-type {\n",
       "        vertical-align: middle;\n",
       "    }\n",
       "\n",
       "    .dataframe tbody tr th {\n",
       "        vertical-align: top;\n",
       "    }\n",
       "\n",
       "    .dataframe thead th {\n",
       "        text-align: right;\n",
       "    }\n",
       "</style>\n",
       "<table border=\"1\" class=\"dataframe\">\n",
       "  <thead>\n",
       "    <tr style=\"text-align: right;\">\n",
       "      <th></th>\n",
       "      <th>source</th>\n",
       "      <th>author</th>\n",
       "      <th>title</th>\n",
       "      <th>description</th>\n",
       "      <th>url</th>\n",
       "      <th>urlToImage</th>\n",
       "      <th>publishedAt</th>\n",
       "      <th>content</th>\n",
       "    </tr>\n",
       "  </thead>\n",
       "  <tbody>\n",
       "    <tr>\n",
       "      <th>0</th>\n",
       "      <td>{'id': 'ars-technica', 'name': 'Ars Technica'}</td>\n",
       "      <td>Samuel Axon</td>\n",
       "      <td>Apple announces dates and details about WWDC 2...</td>\n",
       "      <td>Company will keep things virtual, as it has si...</td>\n",
       "      <td>https://arstechnica.com/gadgets/2022/04/apple-...</td>\n",
       "      <td>https://cdn.arstechnica.net/wp-content/uploads...</td>\n",
       "      <td>2022-04-05T18:43:41Z</td>\n",
       "      <td>Enlarge/ The image Apple shared alongside the ...</td>\n",
       "    </tr>\n",
       "  </tbody>\n",
       "</table>\n",
       "</div>"
      ],
      "text/plain": [
       "                                           source       author  \\\n",
       "0  {'id': 'ars-technica', 'name': 'Ars Technica'}  Samuel Axon   \n",
       "\n",
       "                                               title  \\\n",
       "0  Apple announces dates and details about WWDC 2...   \n",
       "\n",
       "                                         description  \\\n",
       "0  Company will keep things virtual, as it has si...   \n",
       "\n",
       "                                                 url  \\\n",
       "0  https://arstechnica.com/gadgets/2022/04/apple-...   \n",
       "\n",
       "                                          urlToImage           publishedAt  \\\n",
       "0  https://cdn.arstechnica.net/wp-content/uploads...  2022-04-05T18:43:41Z   \n",
       "\n",
       "                                             content  \n",
       "0  Enlarge/ The image Apple shared alongside the ...  "
      ]
     },
     "execution_count": 19,
     "metadata": {},
     "output_type": "execute_result"
    }
   ],
   "source": [
    "# Transform the response dictionary to a DataFrame\n",
    "stock_apple_df = pd.DataFrame.from_dict(stock_apple_headlines[\"articles\"])\n",
    "\n",
    "stock_apple_df.head()"
   ]
  },
  {
   "cell_type": "code",
   "execution_count": 21,
   "id": "bd632912-d565-47e8-bec4-8ea558e01b3a",
   "metadata": {},
   "outputs": [
    {
     "data": {
      "text/html": [
       "<div>\n",
       "<style scoped>\n",
       "    .dataframe tbody tr th:only-of-type {\n",
       "        vertical-align: middle;\n",
       "    }\n",
       "\n",
       "    .dataframe tbody tr th {\n",
       "        vertical-align: top;\n",
       "    }\n",
       "\n",
       "    .dataframe thead th {\n",
       "        text-align: right;\n",
       "    }\n",
       "</style>\n",
       "<table border=\"1\" class=\"dataframe\">\n",
       "  <thead>\n",
       "    <tr style=\"text-align: right;\">\n",
       "      <th></th>\n",
       "      <th>date</th>\n",
       "      <th>text</th>\n",
       "      <th>compound</th>\n",
       "      <th>positive</th>\n",
       "      <th>neutral</th>\n",
       "      <th>negative</th>\n",
       "    </tr>\n",
       "  </thead>\n",
       "  <tbody>\n",
       "    <tr>\n",
       "      <th>0</th>\n",
       "      <td>2022-03-21</td>\n",
       "      <td>Notice Apple that several Apple services are u...</td>\n",
       "      <td>0.1877</td>\n",
       "      <td>0.057</td>\n",
       "      <td>0.943</td>\n",
       "      <td>0.0</td>\n",
       "    </tr>\n",
       "    <tr>\n",
       "      <th>1</th>\n",
       "      <td>2022-03-11</td>\n",
       "      <td>This week, Cherlynn and Devindra dive into all...</td>\n",
       "      <td>0.8591</td>\n",
       "      <td>0.183</td>\n",
       "      <td>0.817</td>\n",
       "      <td>0.0</td>\n",
       "    </tr>\n",
       "    <tr>\n",
       "      <th>2</th>\n",
       "      <td>2022-03-08</td>\n",
       "      <td>You're out of luck if you were hoping for a la...</td>\n",
       "      <td>0.7003</td>\n",
       "      <td>0.142</td>\n",
       "      <td>0.858</td>\n",
       "      <td>0.0</td>\n",
       "    </tr>\n",
       "    <tr>\n",
       "      <th>3</th>\n",
       "      <td>2022-03-29</td>\n",
       "      <td>Users report slow charging speeds after updati...</td>\n",
       "      <td>0.0000</td>\n",
       "      <td>0.000</td>\n",
       "      <td>1.000</td>\n",
       "      <td>0.0</td>\n",
       "    </tr>\n",
       "    <tr>\n",
       "      <th>4</th>\n",
       "      <td>2022-03-30</td>\n",
       "      <td>Apple is well-known for doing things in-house ...</td>\n",
       "      <td>0.1779</td>\n",
       "      <td>0.055</td>\n",
       "      <td>0.945</td>\n",
       "      <td>0.0</td>\n",
       "    </tr>\n",
       "  </tbody>\n",
       "</table>\n",
       "</div>"
      ],
      "text/plain": [
       "         date                                               text  compound  \\\n",
       "0  2022-03-21  Notice Apple that several Apple services are u...    0.1877   \n",
       "1  2022-03-11  This week, Cherlynn and Devindra dive into all...    0.8591   \n",
       "2  2022-03-08  You're out of luck if you were hoping for a la...    0.7003   \n",
       "3  2022-03-29  Users report slow charging speeds after updati...    0.0000   \n",
       "4  2022-03-30  Apple is well-known for doing things in-house ...    0.1779   \n",
       "\n",
       "   positive  neutral  negative  \n",
       "0     0.057    0.943       0.0  \n",
       "1     0.183    0.817       0.0  \n",
       "2     0.142    0.858       0.0  \n",
       "3     0.000    1.000       0.0  \n",
       "4     0.055    0.945       0.0  "
      ]
     },
     "execution_count": 21,
     "metadata": {},
     "output_type": "execute_result"
    }
   ],
   "source": [
    "# Create the stock_x sentiment scores DataFrame\n",
    "stock_apple_sentiments = []\n",
    "\n",
    "for article in apple_news[\"articles\"]:\n",
    "    try:\n",
    "        text = article[\"content\"]\n",
    "        date = article[\"publishedAt\"][:10]\n",
    "        sentiment = analyzer.polarity_scores(text)\n",
    "        compound = sentiment[\"compound\"]\n",
    "        pos = sentiment[\"pos\"]\n",
    "        neu = sentiment[\"neu\"]\n",
    "        neg = sentiment[\"neg\"]\n",
    "        \n",
    "        stock_apple_sentiments.append({\n",
    "            \"text\":text,\n",
    "            \"date\":date,\n",
    "            \"compound\":compound,\n",
    "            \"positive\":pos,\n",
    "            \"neutral\":neu,\n",
    "            \"negative\":neg\n",
    "        })\n",
    "    except AttributeError:\n",
    "        pass\n",
    "    \n",
    "stock_apple_df = pd.DataFrame(stock_apple_sentiments)\n",
    "cols = [\"date\", \"text\", \"compound\", \"positive\", \"neutral\", \"negative\"]\n",
    "stock_apple_df = stock_apple_df[cols]\n",
    "stock_apple_df.head()"
   ]
  },
  {
   "cell_type": "code",
   "execution_count": 22,
   "id": "ef1efe10-2def-493c-a9d0-cc0dffc508e7",
   "metadata": {},
   "outputs": [
    {
     "data": {
      "text/html": [
       "<div>\n",
       "<style scoped>\n",
       "    .dataframe tbody tr th:only-of-type {\n",
       "        vertical-align: middle;\n",
       "    }\n",
       "\n",
       "    .dataframe tbody tr th {\n",
       "        vertical-align: top;\n",
       "    }\n",
       "\n",
       "    .dataframe thead th {\n",
       "        text-align: right;\n",
       "    }\n",
       "</style>\n",
       "<table border=\"1\" class=\"dataframe\">\n",
       "  <thead>\n",
       "    <tr style=\"text-align: right;\">\n",
       "      <th></th>\n",
       "      <th>compound</th>\n",
       "      <th>positive</th>\n",
       "      <th>neutral</th>\n",
       "      <th>negative</th>\n",
       "    </tr>\n",
       "  </thead>\n",
       "  <tbody>\n",
       "    <tr>\n",
       "      <th>count</th>\n",
       "      <td>20.000000</td>\n",
       "      <td>20.000000</td>\n",
       "      <td>20.000000</td>\n",
       "      <td>20.000000</td>\n",
       "    </tr>\n",
       "    <tr>\n",
       "      <th>mean</th>\n",
       "      <td>0.408765</td>\n",
       "      <td>0.103500</td>\n",
       "      <td>0.889350</td>\n",
       "      <td>0.007100</td>\n",
       "    </tr>\n",
       "    <tr>\n",
       "      <th>std</th>\n",
       "      <td>0.338087</td>\n",
       "      <td>0.093581</td>\n",
       "      <td>0.102805</td>\n",
       "      <td>0.022796</td>\n",
       "    </tr>\n",
       "    <tr>\n",
       "      <th>min</th>\n",
       "      <td>0.000000</td>\n",
       "      <td>0.000000</td>\n",
       "      <td>0.664000</td>\n",
       "      <td>0.000000</td>\n",
       "    </tr>\n",
       "    <tr>\n",
       "      <th>25%</th>\n",
       "      <td>0.048300</td>\n",
       "      <td>0.026250</td>\n",
       "      <td>0.849250</td>\n",
       "      <td>0.000000</td>\n",
       "    </tr>\n",
       "    <tr>\n",
       "      <th>50%</th>\n",
       "      <td>0.439300</td>\n",
       "      <td>0.091000</td>\n",
       "      <td>0.905000</td>\n",
       "      <td>0.000000</td>\n",
       "    </tr>\n",
       "    <tr>\n",
       "      <th>75%</th>\n",
       "      <td>0.669850</td>\n",
       "      <td>0.150750</td>\n",
       "      <td>0.973750</td>\n",
       "      <td>0.000000</td>\n",
       "    </tr>\n",
       "    <tr>\n",
       "      <th>max</th>\n",
       "      <td>0.924600</td>\n",
       "      <td>0.324000</td>\n",
       "      <td>1.000000</td>\n",
       "      <td>0.091000</td>\n",
       "    </tr>\n",
       "  </tbody>\n",
       "</table>\n",
       "</div>"
      ],
      "text/plain": [
       "        compound   positive    neutral   negative\n",
       "count  20.000000  20.000000  20.000000  20.000000\n",
       "mean    0.408765   0.103500   0.889350   0.007100\n",
       "std     0.338087   0.093581   0.102805   0.022796\n",
       "min     0.000000   0.000000   0.664000   0.000000\n",
       "25%     0.048300   0.026250   0.849250   0.000000\n",
       "50%     0.439300   0.091000   0.905000   0.000000\n",
       "75%     0.669850   0.150750   0.973750   0.000000\n",
       "max     0.924600   0.324000   1.000000   0.091000"
      ]
     },
     "execution_count": 22,
     "metadata": {},
     "output_type": "execute_result"
    }
   ],
   "source": [
    "# Describe the stock_x Sentiment\n",
    "\n",
    "stock_apple_df.describe()"
   ]
  },
  {
   "cell_type": "code",
   "execution_count": 24,
   "id": "e0fb8b50-cee9-4ce3-a1c9-35bb8edc91a9",
   "metadata": {},
   "outputs": [
    {
     "data": {
      "text/plain": [
       "0.10350000000000001"
      ]
     },
     "execution_count": 24,
     "metadata": {},
     "output_type": "execute_result"
    }
   ],
   "source": [
    "stock_apple_df[\"positive\"].mean()"
   ]
  },
  {
   "cell_type": "code",
   "execution_count": 25,
   "id": "ff9936cc-8b80-4f4b-85bc-8f1ecef95111",
   "metadata": {},
   "outputs": [
    {
     "data": {
      "text/plain": [
       "0.9246"
      ]
     },
     "execution_count": 25,
     "metadata": {},
     "output_type": "execute_result"
    }
   ],
   "source": [
    "stock_apple_df[\"compound\"].max()"
   ]
  },
  {
   "cell_type": "code",
   "execution_count": 26,
   "id": "ae0488a6-f48d-4e09-98c6-d5721fc3484c",
   "metadata": {},
   "outputs": [
    {
     "data": {
      "text/plain": [
       "0.0"
      ]
     },
     "execution_count": 26,
     "metadata": {},
     "output_type": "execute_result"
    }
   ],
   "source": [
    "stock_apple_df[\"compound\"].min()"
   ]
  }
 ],
 "metadata": {
  "kernelspec": {
   "display_name": "Python 3 (ipykernel)",
   "language": "python",
   "name": "python3"
  },
  "language_info": {
   "codemirror_mode": {
    "name": "ipython",
    "version": 3
   },
   "file_extension": ".py",
   "mimetype": "text/x-python",
   "name": "python",
   "nbconvert_exporter": "python",
   "pygments_lexer": "ipython3",
   "version": "3.7.11"
  }
 },
 "nbformat": 4,
 "nbformat_minor": 5
}
